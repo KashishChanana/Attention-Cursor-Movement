{
 "cells": [
  {
   "cell_type": "code",
   "execution_count": 151,
   "metadata": {},
   "outputs": [],
   "source": [
    "import os\n",
    "import pandas as pd\n",
    "import xml.etree.ElementTree as ET\n",
    "import matplotlib.pyplot as plt\n",
    "import warnings\n",
    "import tqdm\n",
    "import numpy as np\n",
    "# Suppress warnings\n",
    "warnings.filterwarnings(\"ignore\")"
   ]
  },
  {
   "cell_type": "code",
   "execution_count": 152,
   "metadata": {},
   "outputs": [],
   "source": [
    "# Paths\n",
    "BASE_DIR = \"dataset/the-attentive-cursor-dataset-master/\"\n",
    "LOGS_DIR = BASE_DIR + \"logs/\"\n",
    "GROUNDTRUTH_FILE = BASE_DIR + \"groundtruth.tsv\"\n",
    "OUTPUT_DIR = \"processed/\"\n",
    "OUTPUT_DIR_SCALED = \"processed_scaled/\"\n",
    "VISUALIZATION_DIR = \"visualizations/\"\n",
    "VISUALIZATION_DIR_SCALED = \"visualizations_scaled/\""
   ]
  },
  {
   "cell_type": "code",
   "execution_count": 153,
   "metadata": {},
   "outputs": [],
   "source": [
    "os.makedirs(OUTPUT_DIR, exist_ok=True)\n",
    "os.makedirs(VISUALIZATION_DIR, exist_ok=True)\n",
    "os.makedirs(VISUALIZATION_DIR_SCALED, exist_ok=True)\n",
    "os.makedirs(OUTPUT_DIR_SCALED, exist_ok=True)"
   ]
  },
  {
   "cell_type": "code",
   "execution_count": 154,
   "metadata": {},
   "outputs": [],
   "source": [
    "groundtruth_df = pd.read_csv(GROUNDTRUTH_FILE, sep=\"\\t\")"
   ]
  },
  {
   "cell_type": "code",
   "execution_count": 155,
   "metadata": {},
   "outputs": [],
   "source": [
    "def parse_xml(xml_file):\n",
    "    \"\"\"Extracts metadata from an XML file.\"\"\"\n",
    "    tree = ET.parse(xml_file)\n",
    "    root = tree.getroot()\n",
    "    metadata = {}\n",
    "    for child in root:\n",
    "        metadata[child.tag] = child.text\n",
    "    return metadata"
   ]
  },
  {
   "cell_type": "code",
   "execution_count": 156,
   "metadata": {},
   "outputs": [],
   "source": [
    "def plot_mouse_movement(df, log_id):\n",
    "    \"\"\"Generates a mouse movement tracking plot.\"\"\"\n",
    "    plt.figure(figsize=(10, 6))\n",
    "    \n",
    "    # Filter only mouse movement events\n",
    "    movement_df = df[df[\"event\"].isin([\"mousemove\", \"mouseover\", \"mousedown\", \"mouseup\", \"click\"])]\n",
    "    plt.plot(movement_df[\"xpos\"], movement_df[\"ypos\"], marker='o', linestyle='-', color='blue', label='Mouse Movement')\n",
    "    \n",
    "    # Highlight key events\n",
    "    for _, row in movement_df.iterrows():\n",
    "        if row[\"event\"] in [\"mouseover\", \"mousedown\", \"mouseup\", \"click\"]:\n",
    "            plt.scatter(row[\"xpos\"], row[\"ypos\"], color='red', s=100, label=row[\"event\"] if row[\"event\"] not in plt.gca().get_legend_handles_labels()[1] else \"\")\n",
    "    \n",
    "    plt.gca().invert_yaxis()  # Invert y-axis to match screen coordinates\n",
    "    plt.xlabel('X Position')\n",
    "    plt.ylabel('Y Position')\n",
    "    plt.title(f'Mouse Movement Tracking - {log_id}')\n",
    "    plt.legend()\n",
    "    plt.grid(True)\n",
    "    \n",
    "    # Save figure\n",
    "    plt.savefig(os.path.join(VISUALIZATION_DIR, f\"{log_id}_mouse_movement.png\"))\n",
    "    plt.close()"
   ]
  },
  {
   "cell_type": "code",
   "execution_count": 157,
   "metadata": {},
   "outputs": [],
   "source": [
    "from matplotlib.collections import LineCollection\n",
    "import matplotlib.colors as mcolors\n",
    "\n",
    "\n",
    "def plot_mouse_movement_scaled(df, log_id, norm_accel, cmap):\n",
    "\n",
    "    \"\"\"Generates a high-contrast mouse movement tracking plot with acceleration-based color.\"\"\"\n",
    "    \n",
    "    plt.figure(figsize=(8, 6), facecolor='black')\n",
    "    \n",
    "    # Create line segments for visualization\n",
    "    points = np.array([df[\"xpos_scaled\"], df[\"ypos_scaled\"]]).T.reshape(-1, 1, 2)\n",
    "    segments = np.concatenate([points[:-1], points[1:]], axis=1)\n",
    "    norm = plt.Normalize(norm_accel.min(), norm_accel.max())\n",
    "    lc = LineCollection(segments, cmap=cmap, norm=norm, linewidth=2)\n",
    "    lc.set_array(norm_accel[:-1])\n",
    "    plt.gca().add_collection(lc)\n",
    "    \n",
    "    # Remove axis details for cleaner visualization\n",
    "    plt.xticks([])\n",
    "    plt.yticks([])\n",
    "    plt.xlim(0, 1)\n",
    "    plt.ylim(0, 1)\n",
    "    plt.gca().invert_yaxis()\n",
    "    plt.gca().set_facecolor(\"black\")  # Set black background\n",
    "    plt.savefig(os.path.join(VISUALIZATION_DIR_SCALED, f\"{log_id}_mouse_movement.png\"), bbox_inches='tight', pad_inches=0, facecolor='black')\n",
    "    plt.close()"
   ]
  },
  {
   "cell_type": "code",
   "execution_count": 161,
   "metadata": {},
   "outputs": [],
   "source": [
    "def process_log(log_id):\n",
    "    \"\"\"Loads and merges CSV and XML data for a given log_id.\"\"\"\n",
    "    csv_path = os.path.join(LOGS_DIR, f\"{log_id}.csv\")\n",
    "    xml_path = os.path.join(LOGS_DIR, f\"{log_id}.xml\")\n",
    "    \n",
    "    if not os.path.exists(csv_path) or not os.path.exists(xml_path):\n",
    "        print(f\"Missing files for log_id {log_id}, skipping...\")\n",
    "        return None\n",
    "    \n",
    "    # Load mouse tracking data\n",
    "    df = pd.read_csv(csv_path, delim_whitespace=True)\n",
    "    \n",
    "    # Parse XML metadata\n",
    "    metadata = parse_xml(xml_path)\n",
    "    metadata_df = pd.DataFrame([metadata])\n",
    "    metadata_df[\"log_id\"] = str(log_id)\n",
    "    window_width, window_height = map(int, metadata[\"window\"].split(\"x\"))\n",
    "\n",
    "    # Normalize positions by window size\n",
    "    df[\"xpos_scaled\"] = df[\"xpos\"] / window_width\n",
    "    df[\"ypos_scaled\"] = df[\"ypos\"] / window_height\n",
    "    \n",
    "    # Compute speed and acceleration\n",
    "    df[\"timestamp_diff\"] = df[\"timestamp\"].diff().fillna(1)\n",
    "    df[\"speed\"] = np.sqrt(df[\"xpos\"].diff()**2 + df[\"ypos\"].diff()**2) / df[\"timestamp_diff\"]\n",
    "    df[\"speed\"].replace([np.inf, -np.inf], np.nan, inplace=True)\n",
    "    df[\"speed\"].fillna(0, inplace=True)\n",
    "    df[\"acceleration\"] = df[\"speed\"].diff().fillna(0)\n",
    "    \n",
    "    # Normalize acceleration for color mapping\n",
    "    norm_accel = (df[\"acceleration\"] - df[\"acceleration\"].min()) / (df[\"acceleration\"].max() - df[\"acceleration\"].min())\n",
    "    \n",
    "    # Define acceleration color ranges for consistent usage across logs\n",
    "    \"\"\"\n",
    "    Blue: Low acceleration\n",
    "    Cyan: Medium-low acceleration\n",
    "    Yellow: Medium acceleration\n",
    "    Orange: High acceleration\n",
    "    Red: Very high acceleration\n",
    "    \"\"\"\n",
    "    \n",
    "    accel_bins = [0.0, 0.25, 0.5, 0.75, 1.0]\n",
    "    accel_colors = [\"blue\", \"cyan\", \"yellow\", \"orange\", \"red\"]\n",
    "    cmap = mcolors.LinearSegmentedColormap.from_list(\"accel_cmap\", list(zip(accel_bins, accel_colors)))\n",
    "    \n",
    "    # Merge with tracking data\n",
    "    df[\"log_id\"] = log_id\n",
    "    df[\"log_id\"] = df[\"log_id\"].astype(str)\n",
    "    merged_df = df.merge(metadata_df, on=\"log_id\", how=\"left\")\n",
    "    \n",
    "    # Merge with ground truth labels\n",
    "    groundtruth_df[\"log_id\"] = groundtruth_df[\"log_id\"].astype(str)\n",
    "    merged_df = merged_df.merge(groundtruth_df, on=\"log_id\", how=\"left\")\n",
    "    \n",
    "    # Save merged data\n",
    "    output_path = os.path.join(OUTPUT_DIR_SCALED, f\"{log_id}_processed_scaled.csv\")\n",
    "    merged_df.to_csv(output_path, index=False)\n",
    "    \n",
    "    # Generate visualization\n",
    "    plot_mouse_movement_scaled(merged_df, log_id, norm_accel, cmap)\n",
    "    \n",
    "    return merged_df\n"
   ]
  },
  {
   "cell_type": "code",
   "execution_count": 163,
   "metadata": {},
   "outputs": [],
   "source": [
    "def main():\n",
    "    \"\"\"Processes all log files in the directory.\"\"\"\n",
    "    log_ids = [f.split(\".\")[0] for f in os.listdir(LOGS_DIR) if f.endswith(\".csv\")]\n",
    "    \n",
    "    for log_id in tqdm.tqdm(log_ids):\n",
    "        # print(f\"Processing {log_id}...\")\n",
    "        process_log(log_id)\n",
    "    \n",
    "    print(\"Data processing complete. Check the 'processed' folder for merged files and 'visualizations scaled' for plots.\")\n"
   ]
  },
  {
   "cell_type": "code",
   "execution_count": 164,
   "metadata": {},
   "outputs": [
    {
     "name": "stderr",
     "output_type": "stream",
     "text": [
      "100%|██████████| 2909/2909 [01:35<00:00, 30.34it/s]"
     ]
    },
    {
     "name": "stdout",
     "output_type": "stream",
     "text": [
      "Data processing complete. Check the 'processed' folder for merged files and 'visualizations scaled' for plots.\n"
     ]
    },
    {
     "name": "stderr",
     "output_type": "stream",
     "text": [
      "\n"
     ]
    }
   ],
   "source": [
    "if __name__ == \"__main__\":\n",
    "    main()"
   ]
  },
  {
   "cell_type": "code",
   "execution_count": null,
   "metadata": {},
   "outputs": [],
   "source": []
  },
  {
   "cell_type": "code",
   "execution_count": null,
   "metadata": {},
   "outputs": [],
   "source": []
  }
 ],
 "metadata": {
  "kernelspec": {
   "display_name": "ml",
   "language": "python",
   "name": "python3"
  },
  "language_info": {
   "codemirror_mode": {
    "name": "ipython",
    "version": 3
   },
   "file_extension": ".py",
   "mimetype": "text/x-python",
   "name": "python",
   "nbconvert_exporter": "python",
   "pygments_lexer": "ipython3",
   "version": "3.11.8"
  }
 },
 "nbformat": 4,
 "nbformat_minor": 2
}
