{
 "cells": [
  {
   "cell_type": "code",
   "execution_count": 38,
   "metadata": {},
   "outputs": [],
   "source": [
    "from fastai.vision.all import *\n",
    "import pandas as pd\n",
    "import os"
   ]
  },
  {
   "cell_type": "code",
   "execution_count": 39,
   "metadata": {},
   "outputs": [],
   "source": [
    "# Define directories\n",
    "VISUALS_DIR = \"visualizations_scaled/\"\n",
    "PROCESSED_DIR = \"processed_scaled/\""
   ]
  },
  {
   "cell_type": "code",
   "execution_count": 40,
   "metadata": {},
   "outputs": [],
   "source": [
    "# Load all processed CSVs and combine them\n",
    "csv_files = [os.path.join(PROCESSED_DIR, f) for f in os.listdir(PROCESSED_DIR) if f.endswith(\".csv\")]\n",
    "df_list = [pd.read_csv(f) for f in csv_files]\n",
    "df = pd.concat(df_list, ignore_index=True)\n",
    "\n",
    "# Extract required columns: log_id and attention score\n",
    "df = df[[\"log_id\", \"attention\"]].drop_duplicates()\n",
    "df.dropna(subset=[\"attention\"], inplace=True)\n",
    "\n",
    "# Create image path mapping\n",
    "df[\"image_path\"] = df[\"log_id\"].apply(lambda x: os.path.join(VISUALS_DIR, f\"{x}_mouse_movement.png\"))\n",
    "\n",
    "# Ensure only images that exist are included\n",
    "df = df[df[\"image_path\"].apply(os.path.exists)]"
   ]
  },
  {
   "cell_type": "code",
   "execution_count": 41,
   "metadata": {},
   "outputs": [
    {
     "data": {
      "text/plain": [
       "(2909, 3)"
      ]
     },
     "execution_count": 41,
     "metadata": {},
     "output_type": "execute_result"
    }
   ],
   "source": [
    "df.shape"
   ]
  },
  {
   "cell_type": "code",
   "execution_count": 42,
   "metadata": {},
   "outputs": [
    {
     "data": {
      "text/html": [
       "<div>\n",
       "<style scoped>\n",
       "    .dataframe tbody tr th:only-of-type {\n",
       "        vertical-align: middle;\n",
       "    }\n",
       "\n",
       "    .dataframe tbody tr th {\n",
       "        vertical-align: top;\n",
       "    }\n",
       "\n",
       "    .dataframe thead th {\n",
       "        text-align: right;\n",
       "    }\n",
       "</style>\n",
       "<table border=\"1\" class=\"dataframe\">\n",
       "  <thead>\n",
       "    <tr style=\"text-align: right;\">\n",
       "      <th></th>\n",
       "      <th>log_id</th>\n",
       "      <th>attention</th>\n",
       "      <th>image_path</th>\n",
       "    </tr>\n",
       "  </thead>\n",
       "  <tbody>\n",
       "    <tr>\n",
       "      <th>0</th>\n",
       "      <td>20170223142955</td>\n",
       "      <td>4</td>\n",
       "      <td>visualizations_scaled/20170223142955_mouse_movement.png</td>\n",
       "    </tr>\n",
       "    <tr>\n",
       "      <th>89</th>\n",
       "      <td>20170212010344</td>\n",
       "      <td>5</td>\n",
       "      <td>visualizations_scaled/20170212010344_mouse_movement.png</td>\n",
       "    </tr>\n",
       "    <tr>\n",
       "      <th>103</th>\n",
       "      <td>20181001155535</td>\n",
       "      <td>4</td>\n",
       "      <td>visualizations_scaled/20181001155535_mouse_movement.png</td>\n",
       "    </tr>\n",
       "    <tr>\n",
       "      <th>201</th>\n",
       "      <td>20180728082322</td>\n",
       "      <td>5</td>\n",
       "      <td>visualizations_scaled/20180728082322_mouse_movement.png</td>\n",
       "    </tr>\n",
       "    <tr>\n",
       "      <th>245</th>\n",
       "      <td>20170131191120</td>\n",
       "      <td>5</td>\n",
       "      <td>visualizations_scaled/20170131191120_mouse_movement.png</td>\n",
       "    </tr>\n",
       "  </tbody>\n",
       "</table>\n",
       "</div>"
      ],
      "text/plain": [
       "             log_id  attention  \\\n",
       "0    20170223142955          4   \n",
       "89   20170212010344          5   \n",
       "103  20181001155535          4   \n",
       "201  20180728082322          5   \n",
       "245  20170131191120          5   \n",
       "\n",
       "                                                  image_path  \n",
       "0    visualizations_scaled/20170223142955_mouse_movement.png  \n",
       "89   visualizations_scaled/20170212010344_mouse_movement.png  \n",
       "103  visualizations_scaled/20181001155535_mouse_movement.png  \n",
       "201  visualizations_scaled/20180728082322_mouse_movement.png  \n",
       "245  visualizations_scaled/20170131191120_mouse_movement.png  "
      ]
     },
     "execution_count": 42,
     "metadata": {},
     "output_type": "execute_result"
    }
   ],
   "source": [
    "df.head()"
   ]
  },
  {
   "cell_type": "code",
   "execution_count": 43,
   "metadata": {},
   "outputs": [
    {
     "data": {
      "text/html": [
       "\n",
       "<style>\n",
       "    /* Turns off some styling */\n",
       "    progress {\n",
       "        /* gets rid of default border in Firefox and Opera. */\n",
       "        border: none;\n",
       "        /* Needs to be in here for Safari polyfill so background images work as expected. */\n",
       "        background-size: auto;\n",
       "    }\n",
       "    progress:not([value]), progress:not([value])::-webkit-progress-bar {\n",
       "        background: repeating-linear-gradient(45deg, #7e7e7e, #7e7e7e 10px, #5c5c5c 10px, #5c5c5c 20px);\n",
       "    }\n",
       "    .progress-bar-interrupted, .progress-bar-interrupted::-webkit-progress-bar {\n",
       "        background: #F44336;\n",
       "    }\n",
       "</style>\n"
      ],
      "text/plain": [
       "<IPython.core.display.HTML object>"
      ]
     },
     "metadata": {},
     "output_type": "display_data"
    },
    {
     "data": {
      "text/html": [
       "<table border=\"1\" class=\"dataframe\">\n",
       "  <thead>\n",
       "    <tr style=\"text-align: left;\">\n",
       "      <th>epoch</th>\n",
       "      <th>train_loss</th>\n",
       "      <th>valid_loss</th>\n",
       "      <th>accuracy</th>\n",
       "      <th>time</th>\n",
       "    </tr>\n",
       "  </thead>\n",
       "  <tbody>\n",
       "    <tr>\n",
       "      <td>0</td>\n",
       "      <td>2.552900</td>\n",
       "      <td>2.116221</td>\n",
       "      <td>0.228916</td>\n",
       "      <td>01:40</td>\n",
       "    </tr>\n",
       "  </tbody>\n",
       "</table>"
      ],
      "text/plain": [
       "<IPython.core.display.HTML object>"
      ]
     },
     "metadata": {},
     "output_type": "display_data"
    },
    {
     "data": {
      "text/html": [
       "\n",
       "<style>\n",
       "    /* Turns off some styling */\n",
       "    progress {\n",
       "        /* gets rid of default border in Firefox and Opera. */\n",
       "        border: none;\n",
       "        /* Needs to be in here for Safari polyfill so background images work as expected. */\n",
       "        background-size: auto;\n",
       "    }\n",
       "    progress:not([value]), progress:not([value])::-webkit-progress-bar {\n",
       "        background: repeating-linear-gradient(45deg, #7e7e7e, #7e7e7e 10px, #5c5c5c 10px, #5c5c5c 20px);\n",
       "    }\n",
       "    .progress-bar-interrupted, .progress-bar-interrupted::-webkit-progress-bar {\n",
       "        background: #F44336;\n",
       "    }\n",
       "</style>\n"
      ],
      "text/plain": [
       "<IPython.core.display.HTML object>"
      ]
     },
     "metadata": {},
     "output_type": "display_data"
    },
    {
     "data": {
      "text/html": [
       "<table border=\"1\" class=\"dataframe\">\n",
       "  <thead>\n",
       "    <tr style=\"text-align: left;\">\n",
       "      <th>epoch</th>\n",
       "      <th>train_loss</th>\n",
       "      <th>valid_loss</th>\n",
       "      <th>accuracy</th>\n",
       "      <th>time</th>\n",
       "    </tr>\n",
       "  </thead>\n",
       "  <tbody>\n",
       "    <tr>\n",
       "      <td>0</td>\n",
       "      <td>2.161710</td>\n",
       "      <td>1.863234</td>\n",
       "      <td>0.302926</td>\n",
       "      <td>02:33</td>\n",
       "    </tr>\n",
       "    <tr>\n",
       "      <td>1</td>\n",
       "      <td>2.001912</td>\n",
       "      <td>1.787967</td>\n",
       "      <td>0.323580</td>\n",
       "      <td>02:18</td>\n",
       "    </tr>\n",
       "    <tr>\n",
       "      <td>2</td>\n",
       "      <td>1.798029</td>\n",
       "      <td>1.716915</td>\n",
       "      <td>0.339071</td>\n",
       "      <td>01:26</td>\n",
       "    </tr>\n",
       "    <tr>\n",
       "      <td>3</td>\n",
       "      <td>1.542656</td>\n",
       "      <td>1.654339</td>\n",
       "      <td>0.352840</td>\n",
       "      <td>02:44</td>\n",
       "    </tr>\n",
       "    <tr>\n",
       "      <td>4</td>\n",
       "      <td>1.356939</td>\n",
       "      <td>1.677106</td>\n",
       "      <td>0.335628</td>\n",
       "      <td>02:02</td>\n",
       "    </tr>\n",
       "  </tbody>\n",
       "</table>"
      ],
      "text/plain": [
       "<IPython.core.display.HTML object>"
      ]
     },
     "metadata": {},
     "output_type": "display_data"
    }
   ],
   "source": [
    "from fastai.vision.all import *\n",
    "from fastai.callback.tracker import CSVLogger\n",
    "\n",
    "# Define FastAI DataBlock\n",
    "dblock = DataBlock(\n",
    "    blocks=(ImageBlock, CategoryBlock),\n",
    "    get_x=ColReader(\"image_path\"),\n",
    "    get_y=ColReader(\"attention\"),\n",
    "    splitter=RandomSplitter(valid_pct=0.2, seed=42),\n",
    "    item_tfms=[Resize(224)],  # Resize images to 224x224 for ResNet\n",
    ")\n",
    "\n",
    "# Create DataLoaders\n",
    "dls = dblock.dataloaders(df, bs=32)\n",
    "\n",
    "# Define and train the model\n",
    "learn = vision_learner(dls, resnet18, metrics=accuracy, cbs=[CSVLogger(fname='training_log.csv')])\n",
    "learn.fine_tune(5)\n"
   ]
  },
  {
   "cell_type": "code",
   "execution_count": 44,
   "metadata": {},
   "outputs": [
    {
     "data": {
      "text/html": [
       "\n",
       "<style>\n",
       "    /* Turns off some styling */\n",
       "    progress {\n",
       "        /* gets rid of default border in Firefox and Opera. */\n",
       "        border: none;\n",
       "        /* Needs to be in here for Safari polyfill so background images work as expected. */\n",
       "        background-size: auto;\n",
       "    }\n",
       "    progress:not([value]), progress:not([value])::-webkit-progress-bar {\n",
       "        background: repeating-linear-gradient(45deg, #7e7e7e, #7e7e7e 10px, #5c5c5c 10px, #5c5c5c 20px);\n",
       "    }\n",
       "    .progress-bar-interrupted, .progress-bar-interrupted::-webkit-progress-bar {\n",
       "        background: #F44336;\n",
       "    }\n",
       "</style>\n"
      ],
      "text/plain": [
       "<IPython.core.display.HTML object>"
      ]
     },
     "metadata": {},
     "output_type": "display_data"
    },
    {
     "data": {
      "text/html": [],
      "text/plain": [
       "<IPython.core.display.HTML object>"
      ]
     },
     "metadata": {},
     "output_type": "display_data"
    },
    {
     "data": {
      "text/html": [
       "\n",
       "<style>\n",
       "    /* Turns off some styling */\n",
       "    progress {\n",
       "        /* gets rid of default border in Firefox and Opera. */\n",
       "        border: none;\n",
       "        /* Needs to be in here for Safari polyfill so background images work as expected. */\n",
       "        background-size: auto;\n",
       "    }\n",
       "    progress:not([value]), progress:not([value])::-webkit-progress-bar {\n",
       "        background: repeating-linear-gradient(45deg, #7e7e7e, #7e7e7e 10px, #5c5c5c 10px, #5c5c5c 20px);\n",
       "    }\n",
       "    .progress-bar-interrupted, .progress-bar-interrupted::-webkit-progress-bar {\n",
       "        background: #F44336;\n",
       "    }\n",
       "</style>\n"
      ],
      "text/plain": [
       "<IPython.core.display.HTML object>"
      ]
     },
     "metadata": {},
     "output_type": "display_data"
    },
    {
     "data": {
      "text/html": [],
      "text/plain": [
       "<IPython.core.display.HTML object>"
      ]
     },
     "metadata": {},
     "output_type": "display_data"
    },
    {
     "data": {
      "image/png": "[encoded data removed]",
      "text/plain": [
       "<Figure size 600x600 with 1 Axes>"
      ]
     },
     "metadata": {},
     "output_type": "display_data"
    }
   ],
   "source": [
    "# Evaluate the model\n",
    "interp = ClassificationInterpretation.from_learner(learn)\n",
    "interp.plot_confusion_matrix(figsize=(6, 6))\n",
    "plt.show()"
   ]
  },
  {
   "cell_type": "code",
   "execution_count": 49,
   "metadata": {},
   "outputs": [
    {
     "name": "stdout",
     "output_type": "stream",
     "text": [
      "   epoch  train_loss  valid_loss  accuracy   time\n",
      "0      0    2.161710    1.863234  0.302926  02:33\n",
      "1      1    2.001912    1.787967  0.323580  02:18\n",
      "2      2    1.798029    1.716915  0.339071  01:26\n",
      "3      3    1.542656    1.654339  0.352840  02:44\n",
      "4      4    1.356939    1.677106  0.335628  02:02\n"
     ]
    },
    {
     "data": {
      "image/png": "[encoded data removed]",
      "text/plain": [
       "<Figure size 800x600 with 1 Axes>"
      ]
     },
     "metadata": {},
     "output_type": "display_data"
    }
   ],
   "source": [
    "log_df = pd.read_csv('training_log.csv')\n",
    "print(log_df.head())  # Debugging check\n",
    "\n",
    "# Ensure training loss & accuracy plots are properly displayed\n",
    "fig, ax = plt.subplots(figsize=(8, 6))\n",
    "learn.recorder.plot_loss(ax=ax)\n",
    "ax.set_title(\"Training Loss Over Epochs\")\n",
    "ax.grid(True)\n",
    "plt.show()"
   ]
  },
  {
   "cell_type": "code",
   "execution_count": 23,
   "metadata": {},
   "outputs": [
    {
     "data": {
      "text/html": [
       "\n",
       "<style>\n",
       "    /* Turns off some styling */\n",
       "    progress {\n",
       "        /* gets rid of default border in Firefox and Opera. */\n",
       "        border: none;\n",
       "        /* Needs to be in here for Safari polyfill so background images work as expected. */\n",
       "        background-size: auto;\n",
       "    }\n",
       "    progress:not([value]), progress:not([value])::-webkit-progress-bar {\n",
       "        background: repeating-linear-gradient(45deg, #7e7e7e, #7e7e7e 10px, #5c5c5c 10px, #5c5c5c 20px);\n",
       "    }\n",
       "    .progress-bar-interrupted, .progress-bar-interrupted::-webkit-progress-bar {\n",
       "        background: #F44336;\n",
       "    }\n",
       "</style>\n"
      ],
      "text/plain": [
       "<IPython.core.display.HTML object>"
      ]
     },
     "metadata": {},
     "output_type": "display_data"
    },
    {
     "data": {
      "text/html": [],
      "text/plain": [
       "<IPython.core.display.HTML object>"
      ]
     },
     "metadata": {},
     "output_type": "display_data"
    },
    {
     "name": "stderr",
     "output_type": "stream",
     "text": [
      "/opt/miniconda3/envs/ml/lib/python3.11/site-packages/fastai/learner.py:53: FutureWarning: You are using `torch.load` with `weights_only=False` (the current default value), which uses the default pickle module implicitly. It is possible to construct malicious pickle data which will execute arbitrary code during unpickling (See https://github.com/pytorch/pytorch/blob/main/SECURITY.md#untrusted-models for more details). In a future release, the default value for `weights_only` will be flipped to `True`. This limits the functions that could be executed during unpickling. Arbitrary objects will no longer be allowed to be loaded via this mode unless they are explicitly allowlisted by the user via `torch.serialization.add_safe_globals`. We recommend you start setting `weights_only=True` for any use case where you don't have full control of the loaded file. Please open an issue on GitHub for any issues related to this experimental feature.\n",
      "  state = torch.load(file, map_location=device, **torch_load_kwargs)\n"
     ]
    },
    {
     "data": {
      "text/plain": [
       "SuggestedLRs(valley=3.630780702224001e-05)"
      ]
     },
     "execution_count": 23,
     "metadata": {},
     "output_type": "execute_result"
    },
    {
     "data": {
      "image/png": "[encoded data removed]",
      "text/plain": [
       "<Figure size 640x480 with 1 Axes>"
      ]
     },
     "metadata": {},
     "output_type": "display_data"
    }
   ],
   "source": [
    "learn.lr_find()"
   ]
  },
  {
   "cell_type": "code",
   "execution_count": 47,
   "metadata": {},
   "outputs": [
    {
     "data": {
      "text/plain": [
       "'\\nfrom fastai.tabular.all import *\\ncsv_files = [os.path.join(PROCESSED_DIR, f) for f in os.listdir(PROCESSED_DIR) if f.endswith(\".csv\")]\\ndf_list = [pd.read_csv(f) for f in csv_files]\\ndf = pd.concat(df_list, ignore_index=True)\\n\\n# Extract required columns\\nstructured_features = [\"speed\", \"acceleration\", \"hover_time\", \"total_events\", \"ad_position\", \"ad_type\"]\\ndf = df[[\"log_id\", \"attention\", \"ad_clicked\"] + structured_features].drop_duplicates()\\ndf.dropna(inplace=True)\\n\\n# Create image path mapping\\ndf[\"image_path\"] = df[\"log_id\"].apply(lambda x: os.path.join(VISUALS_DIR, f\"{x}_mouse_movement.png\"))\\n\\n# Ensure only images that exist are included\\ndf = df[df[\"image_path\"].apply(os.path.exists)]\\n\\n# Define ImageBlock for CNN\\nimg_dblock = DataBlock(\\n    blocks=(ImageBlock, CategoryBlock),\\n    get_x=ColReader(\"image_path\"),\\n    get_y=ColReader(\"attention\"),\\n    splitter=RandomSplitter(valid_pct=0.2, seed=42),\\n    item_tfms=[Resize(224)],  # Resize images for ResNet\\n)\\n\\ndls_img = img_dblock.dataloaders(df, bs=32)\\n\\n# Define TabularBlock for structured data\\ntab_dblock = DataBlock(\\n    blocks=(TabularBlock(cat_names=[\"ad_position\", \"ad_type\"], cont_names=[\"speed\", \"acceleration\", \"hover_time\", \"total_events\"], y_names=[\"attention\"], y_block=CategoryBlock),),\\n    get_x=ColReader(structured_features),\\n    get_y=ColReader(\"attention\"),\\n    splitter=RandomSplitter(valid_pct=0.2, seed=42),\\n)\\n\\ndls_tab = tab_dblock.dataloaders(df, bs=32)\\n\\n# Define Hybrid Model (ResNet for images + Tabular NN for structured data)\\nvision_model = vision_learner(dls_img, resnet18, pretrained=True)\\ntab_model = tabular_learner(dls_tab, layers=[200, 100], metrics=accuracy)\\n\\n# Combine both models into one training pipeline\\nlearn_img = vision_learner(dls_img, resnet18, metrics=accuracy, cbs=[CSVLogger(fname=\\'training_log_img.csv\\')])\\nlearn_tab = tabular_learner(dls_tab, layers=[200, 100], metrics=accuracy, cbs=[CSVLogger(fname=\\'training_log_tab.csv\\')])\\n\\nlearn_img.fine_tune(5)\\nlearn_tab.fit_one_cycle(5)\\n'"
      ]
     },
     "execution_count": 47,
     "metadata": {},
     "output_type": "execute_result"
    }
   ],
   "source": [
    "\"\"\"\n",
    "from fastai.tabular.all import *\n",
    "csv_files = [os.path.join(PROCESSED_DIR, f) for f in os.listdir(PROCESSED_DIR) if f.endswith(\".csv\")]\n",
    "df_list = [pd.read_csv(f) for f in csv_files]\n",
    "df = pd.concat(df_list, ignore_index=True)\n",
    "\n",
    "# Extract required columns\n",
    "structured_features = [\"speed\", \"acceleration\", \"hover_time\", \"total_events\", \"ad_position\", \"ad_type\"]\n",
    "df = df[[\"log_id\", \"attention\", \"ad_clicked\"] + structured_features].drop_duplicates()\n",
    "df.dropna(inplace=True)\n",
    "\n",
    "# Create image path mapping\n",
    "df[\"image_path\"] = df[\"log_id\"].apply(lambda x: os.path.join(VISUALS_DIR, f\"{x}_mouse_movement.png\"))\n",
    "\n",
    "# Ensure only images that exist are included\n",
    "df = df[df[\"image_path\"].apply(os.path.exists)]\n",
    "\n",
    "# Define ImageBlock for CNN\n",
    "img_dblock = DataBlock(\n",
    "    blocks=(ImageBlock, CategoryBlock),\n",
    "    get_x=ColReader(\"image_path\"),\n",
    "    get_y=ColReader(\"attention\"),\n",
    "    splitter=RandomSplitter(valid_pct=0.2, seed=42),\n",
    "    item_tfms=[Resize(224)],  # Resize images for ResNet\n",
    ")\n",
    "\n",
    "dls_img = img_dblock.dataloaders(df, bs=32)\n",
    "\n",
    "# Define TabularBlock for structured data\n",
    "tab_dblock = DataBlock(\n",
    "    blocks=(TabularBlock(cat_names=[\"ad_position\", \"ad_type\"], cont_names=[\"speed\", \"acceleration\", \"hover_time\", \"total_events\"], y_names=[\"attention\"], y_block=CategoryBlock),),\n",
    "    get_x=ColReader(structured_features),\n",
    "    get_y=ColReader(\"attention\"),\n",
    "    splitter=RandomSplitter(valid_pct=0.2, seed=42),\n",
    ")\n",
    "\n",
    "dls_tab = tab_dblock.dataloaders(df, bs=32)\n",
    "\n",
    "# Define Hybrid Model (ResNet for images + Tabular NN for structured data)\n",
    "vision_model = vision_learner(dls_img, resnet18, pretrained=True)\n",
    "tab_model = tabular_learner(dls_tab, layers=[200, 100], metrics=accuracy)\n",
    "\n",
    "# Combine both models into one training pipeline\n",
    "learn_img = vision_learner(dls_img, resnet18, metrics=accuracy, cbs=[CSVLogger(fname='training_log_img.csv')])\n",
    "learn_tab = tabular_learner(dls_tab, layers=[200, 100], metrics=accuracy, cbs=[CSVLogger(fname='training_log_tab.csv')])\n",
    "\n",
    "learn_img.fine_tune(5)\n",
    "learn_tab.fit_one_cycle(5)\n",
    "\"\"\""
   ]
  }
 ],
 "metadata": {
  "kernelspec": {
   "display_name": "ml",
   "language": "python",
   "name": "python3"
  },
  "language_info": {
   "codemirror_mode": {
    "name": "ipython",
    "version": 3
   },
   "file_extension": ".py",
   "mimetype": "text/x-python",
   "name": "python",
   "nbconvert_exporter": "python",
   "pygments_lexer": "ipython3",
   "version": "3.11.8"
  }
 },
 "nbformat": 4,
 "nbformat_minor": 2
}
